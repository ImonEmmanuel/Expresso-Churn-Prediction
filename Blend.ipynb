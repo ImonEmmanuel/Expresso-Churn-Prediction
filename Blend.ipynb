{
 "cells": [
  {
   "cell_type": "code",
   "execution_count": 1,
   "metadata": {},
   "outputs": [],
   "source": [
    "import numpy as np\n",
    "import pandas as pd"
   ]
  },
  {
   "cell_type": "code",
   "execution_count": 2,
   "metadata": {},
   "outputs": [],
   "source": [
    "def file_reader(data):\n",
    "    return pd.read_csv(data)"
   ]
  },
  {
   "cell_type": "code",
   "execution_count": 4,
   "metadata": {},
   "outputs": [],
   "source": [
    "sub = file_reader('sub.csv')  \n",
    "clus = file_reader('sub_cluster.csv')\n",
    "log = file_reader('sub_log_transform.csv')"
   ]
  },
  {
   "cell_type": "code",
   "execution_count": 5,
   "metadata": {},
   "outputs": [],
   "source": [
    "def array (data):\n",
    "    return np.array(data['CHURN'])"
   ]
  },
  {
   "cell_type": "code",
   "execution_count": 6,
   "metadata": {},
   "outputs": [],
   "source": [
    "sub_array = array(sub      #Logloss of 0.2519 on Public Lb and 0.24742\n",
    "clus_array = array(clus)   #Logloss of 0.2525 on Public Lb and 0.24718\n",
    "log_array = array(log)     #Logloss of 0.2517 on Public Lb and 0.24722"
   ]
  },
  {
   "cell_type": "code",
   "execution_count": 11,
   "metadata": {},
   "outputs": [],
   "source": [
    "#blending the weight based on public lb\n",
    "\n",
    "#Giving Preference to the ones higher on Public Lb\n",
    "\n",
    "val = (log_array*0.6 +sub_array*0.4)*0.4+(log_array*0.7 +clus_array*0.3)*.3 +(sub_array*0.55+clus_array*0.45)*0.2 +log_array*0.1"
   ]
  },
  {
   "cell_type": "code",
   "execution_count": null,
   "metadata": {},
   "outputs": [],
   "source": [
    "val    #Logloss of 0.25137 on Public Lb and 0.24713"
   ]
  },
  {
   "cell_type": "code",
   "execution_count": 12,
   "metadata": {},
   "outputs": [],
   "source": [
    "var = file_reader('sample_submission.csv').copy()"
   ]
  },
  {
   "cell_type": "code",
   "execution_count": 13,
   "metadata": {},
   "outputs": [],
   "source": [
    "var['CHURN'] = val"
   ]
  },
  {
   "cell_type": "code",
   "execution_count": 14,
   "metadata": {},
   "outputs": [],
   "source": [
    "var.to_csv('blend.csv', index=False)"
   ]
  }
 ],
 "metadata": {
  "kernelspec": {
   "display_name": "Python 3",
   "language": "python",
   "name": "python3"
  },
  "language_info": {
   "codemirror_mode": {
    "name": "ipython",
    "version": 3
   },
   "file_extension": ".py",
   "mimetype": "text/x-python",
   "name": "python",
   "nbconvert_exporter": "python",
   "pygments_lexer": "ipython3",
   "version": "3.7.4"
  }
 },
 "nbformat": 4,
 "nbformat_minor": 2
}
